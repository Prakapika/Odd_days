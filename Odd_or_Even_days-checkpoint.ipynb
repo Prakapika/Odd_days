{
 "cells": [
  {
   "cell_type": "code",
   "execution_count": 1,
   "id": "ca7b1003",
   "metadata": {},
   "outputs": [
    {
     "name": "stdout",
     "output_type": "stream",
     "text": [
      "Number of odd num: 5\n",
      "Number of even num: 4\n"
     ]
    }
   ],
   "source": [
    "num = (1,2,3,4,5,6,7,8,9)\n",
    "odd = 0\n",
    "even = 0\n",
    "for i in num:\n",
    "    if not i%2:\n",
    "            even+=1\n",
    "    else:\n",
    "            odd+=1\n",
    "print(\"Number of odd num:\",odd)\n",
    "print(\"Number of even num:\",even)"
   ]
  },
  {
   "cell_type": "code",
   "execution_count": null,
   "id": "4ad8a852",
   "metadata": {},
   "outputs": [],
   "source": []
  }
 ],
 "metadata": {
  "kernelspec": {
   "display_name": "Python 3 (ipykernel)",
   "language": "python",
   "name": "python3"
  },
  "language_info": {
   "codemirror_mode": {
    "name": "ipython",
    "version": 3
   },
   "file_extension": ".py",
   "mimetype": "text/x-python",
   "name": "python",
   "nbconvert_exporter": "python",
   "pygments_lexer": "ipython3",
   "version": "3.10.6"
  }
 },
 "nbformat": 4,
 "nbformat_minor": 5
}
